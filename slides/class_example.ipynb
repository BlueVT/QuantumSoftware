{
 "cells": [
  {
   "cell_type": "markdown",
   "metadata": {},
   "source": [
    "- Define a class"
   ]
  },
  {
   "cell_type": "code",
   "execution_count": 1,
   "metadata": {},
   "outputs": [],
   "source": [
    "class Person:\n",
    "    def __init__(self, name, age):\n",
    "        self.name = name\n",
    "        self.age = age\n",
    "    def __str__(self):\n",
    "        return \"%10s %10i\"%(self.name, self.age)\n",
    "    def bday(self):\n",
    "        \"\"\"\n",
    "        Increase age by one year\n",
    "        \"\"\"\n",
    "        self.age += 1\n",
    "\n"
   ]
  },
  {
   "cell_type": "markdown",
   "metadata": {},
   "source": [
    "- Create an \"instance\" of this class"
   ]
  },
  {
   "cell_type": "code",
   "execution_count": 2,
   "metadata": {},
   "outputs": [
    {
     "name": "stdout",
     "output_type": "stream",
     "text": [
      "   Barbara         36\n"
     ]
    }
   ],
   "source": [
    "p1 = Person(\"Barbara\", 36)\n",
    "print(p1)"
   ]
  },
  {
   "cell_type": "markdown",
   "metadata": {},
   "source": [
    "- Derive a child class (example of polymorphism)\n",
    "- Default value"
   ]
  },
  {
   "cell_type": "code",
   "execution_count": 3,
   "metadata": {},
   "outputs": [],
   "source": [
    "class Student(Person):\n",
    "    def __init__(self, name, age, grade=\"A\"):\n",
    "        super().__init__(name, age)\n",
    "        self.grade = grade\n",
    "    def __str__(self):\n",
    "        return \"%10s %10i %10s\"%(self.name, self.age, self.grade)\n",
    "    def set_grade(self, grade):\n",
    "        self.grade = grade"
   ]
  },
  {
   "cell_type": "code",
   "execution_count": 8,
   "metadata": {},
   "outputs": [
    {
     "name": "stdout",
     "output_type": "stream",
     "text": [
      "      Nick         38          A\n",
      "      Nick         38          C\n",
      "      Nick         38          B\n"
     ]
    }
   ],
   "source": [
    "s1 = Student(\"Nick\", 38)\n",
    "print(s1)\n",
    "\n",
    "# Change grade to C\n",
    "s1.set_grade(\"C\")\n",
    "print(s1)\n",
    "\n",
    "# We could alternatively create a new object overriding the default grade\n",
    "s1 = Student(\"Nick\", 38, grade=\"B\")\n",
    "print(s1)\n"
   ]
  },
  {
   "cell_type": "markdown",
   "metadata": {},
   "source": [
    "- Now let's look at an example which demonstrates \"scope\""
   ]
  },
  {
   "cell_type": "code",
   "execution_count": 7,
   "metadata": {},
   "outputs": [
    {
     "name": "stdout",
     "output_type": "stream",
     "text": [
      " In test_func():\n",
      "      Nick         48          F\n",
      "      Nick         38          C\n"
     ]
    }
   ],
   "source": [
    "\n",
    "def test_func():\n",
    "    s1 = Student(\"Nick\", 38) # Comment out to see effect of scope\n",
    "    s1.set_grade(\"F\")\n",
    "    for i in range(10):\n",
    "        s1.bday()\n",
    "    print(\" In test_func():\")\n",
    "    print(s1)\n",
    "\n",
    "\n",
    "test_func()\n",
    "print(s1)"
   ]
  }
 ],
 "metadata": {
  "kernelspec": {
   "display_name": "x684",
   "language": "python",
   "name": "python3"
  },
  "language_info": {
   "codemirror_mode": {
    "name": "ipython",
    "version": 3
   },
   "file_extension": ".py",
   "mimetype": "text/x-python",
   "name": "python",
   "nbconvert_exporter": "python",
   "pygments_lexer": "ipython3",
   "version": "3.10.8"
  },
  "orig_nbformat": 4
 },
 "nbformat": 4,
 "nbformat_minor": 2
}
