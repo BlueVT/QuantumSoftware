{
 "cells": [
  {
   "cell_type": "markdown",
   "metadata": {},
   "source": [
    "# Math Quiz \n",
    "Enter an answer for each question in the markdown box"
   ]
  },
  {
   "attachments": {},
   "cell_type": "markdown",
   "metadata": {},
   "source": [
    "---\n",
    "## Question 1:\n",
    "Evaluate derivative with respect to $x$:\n",
    "$$\n",
    "f(x) = x^4e^{\\left(2x+a\\right)^2}\n",
    "$$\n"
   ]
  },
  {
   "attachments": {},
   "cell_type": "markdown",
   "metadata": {},
   "source": [
    "$$\n",
    "\\frac{d}{dx}\\left(x^4e^{\\left(2x+a\\right)^2}\\right)\n",
    "$$\n",
    "$$\n",
    "\\frac{d}{dx}\\left(x^4\\right)e^{\\left(2x+a\\right)^2}+\\frac{d}{dx}\\left(e^{\\left(2x+a\\right)^2}\\right)x^4\n",
    "$$\n",
    "$$\n",
    "4x^3e^{\\left.\\left(2x+a\\right.\\right)^2}+e^{\\left.\\left(2x+a\\right.\\right)^2}\\cdot4\\left.\\left(2x+a\\right.\\right)x^4\n",
    "$$"
   ]
  },
  {
   "attachments": {},
   "cell_type": "markdown",
   "metadata": {},
   "source": [
    "---\n",
    "## Question 2:\n",
    "Evaluate the following integral:\n",
    "$$\n",
    "\\int_{-1}^{2} 5t^4\\;dt\n",
    "$$\n"
   ]
  },
  {
   "attachments": {},
   "cell_type": "markdown",
   "metadata": {},
   "source": [
    "$$\n",
    "5\\int_{-1}^{2} t^4\\;dt\n",
    "$$\n",
    "$$\n",
    "5\\left[\\frac{t^5}{5}\\right]_{-1}^2\n",
    "$$\n",
    "$$\n",
    "5\\cdot \\frac{33}{5}\n",
    "$$\n",
    "$$\n",
    "33\n",
    "$$"
   ]
  },
  {
   "attachments": {},
   "cell_type": "markdown",
   "metadata": {},
   "source": [
    "---\n",
    "## Question 3:\n",
    "If, $\\hat{A} = \\hat{A}^\\dagger$, what kind of operator is $\\hat{A}$?"
   ]
  },
  {
   "attachments": {},
   "cell_type": "markdown",
   "metadata": {},
   "source": [
    "$\\hat{A}$ is a Hermitian operator"
   ]
  },
  {
   "attachments": {},
   "cell_type": "markdown",
   "metadata": {},
   "source": [
    "---\n",
    "## Question 4:\n",
    "If, $\\hat{A}\\hat{A}^\\dagger=\\hat{A}^\\dagger\\hat{A}=\\hat{I}$, what kind of operator is $\\hat{A}$?"
   ]
  },
  {
   "attachments": {},
   "cell_type": "markdown",
   "metadata": {},
   "source": [
    "A unitary operator"
   ]
  },
  {
   "attachments": {},
   "cell_type": "markdown",
   "metadata": {},
   "source": [
    "---\n",
    "## Question 5:\n",
    "If, $\\hat{A}\\hat{A}=\\hat{A}$, what kind of operator is $\\hat{A}$?"
   ]
  },
  {
   "attachments": {},
   "cell_type": "markdown",
   "metadata": {},
   "source": [
    "Idempotent operator"
   ]
  },
  {
   "attachments": {},
   "cell_type": "markdown",
   "metadata": {},
   "source": [
    "---\n",
    "## Question 6:\n",
    "If $\\hat{A}$ is Idempotent and Involutory, what is $\\hat{A}$?"
   ]
  },
  {
   "attachments": {},
   "cell_type": "markdown",
   "metadata": {},
   "source": [
    "$\\hat{A}$ must be the identity operator"
   ]
  },
  {
   "attachments": {},
   "cell_type": "markdown",
   "metadata": {},
   "source": [
    "---\n",
    "## Question 7:\n",
    "Given the following relationship, $\\hat{A}\\ket{v_i} = a_i\\ket{v_i}$, define the following quantities: \n",
    "\t\n",
    "- $a_i$ :\n",
    "- $\\ket{v_i}$ :"
   ]
  },
  {
   "attachments": {},
   "cell_type": "markdown",
   "metadata": {},
   "source": [
    "- $a_i$ : This is the eigenvalue associated with the operator $\\hat{A}$ and the eigenvector $\\ket{v_i}$.\n",
    "- $\\ket{v_i}$ : This is the eigenvector associated with the operator $\\hat{A}$ and the eigenvalue $a_i$."
   ]
  },
  {
   "attachments": {},
   "cell_type": "markdown",
   "metadata": {},
   "source": [
    "---\n",
    "## Question 8:\n",
    " Given the following :\n",
    "- $\\mathbf{x} = \\begin{pmatrix}a\\\\b\\end{pmatrix}$\n",
    "- $\\mathbf{y} = \\begin{pmatrix}c\\\\d\\end{pmatrix}$\n",
    "- $\\mathbf{X} = \\begin{pmatrix}a & b \\\\ c & d\\end{pmatrix}$\n",
    "- $\\mathbf{Y} = \\begin{pmatrix}c & d \\\\ e & f\\end{pmatrix}$\n",
    "\n",
    "Compute: \n",
    "1. $\\mathbf{Y}\\mathbf{x} = ?$\n",
    "1. $\\mathbf{x}^\\dagger\\mathbf{Y} = ?$\n",
    "1. $\\mathbf{X}^\\dagger\\mathbf{Y} = ?$ \n",
    "1. $Trace(\\hat{X}) = ?$"
   ]
  },
  {
   "attachments": {},
   "cell_type": "markdown",
   "metadata": {},
   "source": [
    "1. $\\mathbf{Y}\\mathbf{x} = \\begin{pmatrix}c & d \\\\ e & f\\end{pmatrix} \\begin{pmatrix}a\\\\b\\end{pmatrix} = \\begin{pmatrix}ac + bd \\\\ ae + bf\\end{pmatrix}$\n",
    "2. $\\mathbf{x}^\\dagger\\mathbf{Y} = \\begin{pmatrix}a & b\\end{pmatrix} \\begin{pmatrix}c & d \\\\ e & f\\end{pmatrix} = \\begin{pmatrix}ac + be & ad + bf\\end{pmatrix}$\n",
    "3. $\\mathbf{X}^\\dagger\\mathbf{Y} = \\begin{pmatrix}a & c \\\\ b & d\\end{pmatrix} \\begin{pmatrix}c & d \\\\ e & f\\end{pmatrix} = \\begin{pmatrix}ac + ce & ad + cf\\\\ bc + de & bd + df\\end{pmatrix}$ \n",
    "4. $Trace(\\hat{X}) = a + d$"
   ]
  },
  {
   "attachments": {},
   "cell_type": "markdown",
   "metadata": {},
   "source": [
    "---\n",
    "## Question 9:\n",
    "Compute the following commutator: $\\left[\\begin{pmatrix} 1 & 2 \\\\ 3 & 4\\end{pmatrix},\\begin{pmatrix} 5 & 6 \\\\ 7 & 8\\end{pmatrix}\\right]$"
   ]
  },
  {
   "attachments": {},
   "cell_type": "markdown",
   "metadata": {},
   "source": [
    "$$\n",
    "\\begin{pmatrix} 1 & 2 \\\\ 3 & 4\\end{pmatrix}\\begin{pmatrix} 5 & 6 \\\\ 7 & 8\\end{pmatrix} - \\begin{pmatrix} 5 & 6 \\\\ 7 & 8\\end{pmatrix}\\begin{pmatrix} 1 & 2 \\\\ 3 & 4\\end{pmatrix}\n",
    "$$\n",
    "$$\n",
    "\\begin{pmatrix} 19 & 22 \\\\ 43 & 50\\end{pmatrix} - \\begin{pmatrix} 23 & 34 \\\\ 31 & 46\\end{pmatrix}\n",
    "$$\n",
    "$$\n",
    "\\begin{pmatrix} -4 & -12 \\\\ 12 & 4\\end{pmatrix}\n",
    "$$"
   ]
  }
 ],
 "metadata": {
  "kernelspec": {
   "display_name": "molssi_best_practices",
   "language": "python",
   "name": "python3"
  },
  "language_info": {
   "name": "python",
   "version": "3.11.7"
  },
  "orig_nbformat": 4
 },
 "nbformat": 4,
 "nbformat_minor": 2
}
